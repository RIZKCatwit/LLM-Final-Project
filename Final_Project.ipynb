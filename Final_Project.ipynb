{
  "cells": [
    {
      "cell_type": "code",
      "execution_count": null,
      "metadata": {
        "colab": {
          "base_uri": "https://localhost:8080/",
          "height": 356
        },
        "collapsed": true,
        "id": "lxmExr95_Vzb",
        "outputId": "3126502b-3be9-4a3e-a032-61f26310e746"
      },
      "outputs": [
        {
          "ename": "FileNotFoundError",
          "evalue": "[Errno 2] No such file or directory: 'movies_metadata.csv'",
          "output_type": "error",
          "traceback": [
            "\u001b[0;31m---------------------------------------------------------------------------\u001b[0m",
            "\u001b[0;31mFileNotFoundError\u001b[0m                         Traceback (most recent call last)",
            "\u001b[0;32m<ipython-input-1-0677fefb6ec9>\u001b[0m in \u001b[0;36m<cell line: 0>\u001b[0;34m()\u001b[0m\n\u001b[1;32m      1\u001b[0m \u001b[0;32mimport\u001b[0m \u001b[0mpandas\u001b[0m \u001b[0;32mas\u001b[0m \u001b[0mpd\u001b[0m\u001b[0;34m\u001b[0m\u001b[0;34m\u001b[0m\u001b[0m\n\u001b[1;32m      2\u001b[0m \u001b[0;34m\u001b[0m\u001b[0m\n\u001b[0;32m----> 3\u001b[0;31m \u001b[0mdf\u001b[0m \u001b[0;34m=\u001b[0m \u001b[0mpd\u001b[0m\u001b[0;34m.\u001b[0m\u001b[0mread_csv\u001b[0m\u001b[0;34m(\u001b[0m\u001b[0;34m'movies_metadata.csv'\u001b[0m\u001b[0;34m)\u001b[0m\u001b[0;34m\u001b[0m\u001b[0;34m\u001b[0m\u001b[0m\n\u001b[0m\u001b[1;32m      4\u001b[0m \u001b[0;34m\u001b[0m\u001b[0m\n\u001b[1;32m      5\u001b[0m \u001b[0mprint\u001b[0m\u001b[0;34m(\u001b[0m\u001b[0mdf\u001b[0m\u001b[0;34m.\u001b[0m\u001b[0mhead\u001b[0m\u001b[0;34m(\u001b[0m\u001b[0;34m)\u001b[0m\u001b[0;34m)\u001b[0m\u001b[0;34m\u001b[0m\u001b[0;34m\u001b[0m\u001b[0m\n",
            "\u001b[0;32m/usr/local/lib/python3.11/dist-packages/pandas/io/parsers/readers.py\u001b[0m in \u001b[0;36mread_csv\u001b[0;34m(filepath_or_buffer, sep, delimiter, header, names, index_col, usecols, dtype, engine, converters, true_values, false_values, skipinitialspace, skiprows, skipfooter, nrows, na_values, keep_default_na, na_filter, verbose, skip_blank_lines, parse_dates, infer_datetime_format, keep_date_col, date_parser, date_format, dayfirst, cache_dates, iterator, chunksize, compression, thousands, decimal, lineterminator, quotechar, quoting, doublequote, escapechar, comment, encoding, encoding_errors, dialect, on_bad_lines, delim_whitespace, low_memory, memory_map, float_precision, storage_options, dtype_backend)\u001b[0m\n\u001b[1;32m   1024\u001b[0m     \u001b[0mkwds\u001b[0m\u001b[0;34m.\u001b[0m\u001b[0mupdate\u001b[0m\u001b[0;34m(\u001b[0m\u001b[0mkwds_defaults\u001b[0m\u001b[0;34m)\u001b[0m\u001b[0;34m\u001b[0m\u001b[0;34m\u001b[0m\u001b[0m\n\u001b[1;32m   1025\u001b[0m \u001b[0;34m\u001b[0m\u001b[0m\n\u001b[0;32m-> 1026\u001b[0;31m     \u001b[0;32mreturn\u001b[0m \u001b[0m_read\u001b[0m\u001b[0;34m(\u001b[0m\u001b[0mfilepath_or_buffer\u001b[0m\u001b[0;34m,\u001b[0m \u001b[0mkwds\u001b[0m\u001b[0;34m)\u001b[0m\u001b[0;34m\u001b[0m\u001b[0;34m\u001b[0m\u001b[0m\n\u001b[0m\u001b[1;32m   1027\u001b[0m \u001b[0;34m\u001b[0m\u001b[0m\n\u001b[1;32m   1028\u001b[0m \u001b[0;34m\u001b[0m\u001b[0m\n",
            "\u001b[0;32m/usr/local/lib/python3.11/dist-packages/pandas/io/parsers/readers.py\u001b[0m in \u001b[0;36m_read\u001b[0;34m(filepath_or_buffer, kwds)\u001b[0m\n\u001b[1;32m    618\u001b[0m \u001b[0;34m\u001b[0m\u001b[0m\n\u001b[1;32m    619\u001b[0m     \u001b[0;31m# Create the parser.\u001b[0m\u001b[0;34m\u001b[0m\u001b[0;34m\u001b[0m\u001b[0m\n\u001b[0;32m--> 620\u001b[0;31m     \u001b[0mparser\u001b[0m \u001b[0;34m=\u001b[0m \u001b[0mTextFileReader\u001b[0m\u001b[0;34m(\u001b[0m\u001b[0mfilepath_or_buffer\u001b[0m\u001b[0;34m,\u001b[0m \u001b[0;34m**\u001b[0m\u001b[0mkwds\u001b[0m\u001b[0;34m)\u001b[0m\u001b[0;34m\u001b[0m\u001b[0;34m\u001b[0m\u001b[0m\n\u001b[0m\u001b[1;32m    621\u001b[0m \u001b[0;34m\u001b[0m\u001b[0m\n\u001b[1;32m    622\u001b[0m     \u001b[0;32mif\u001b[0m \u001b[0mchunksize\u001b[0m \u001b[0;32mor\u001b[0m \u001b[0miterator\u001b[0m\u001b[0;34m:\u001b[0m\u001b[0;34m\u001b[0m\u001b[0;34m\u001b[0m\u001b[0m\n",
            "\u001b[0;32m/usr/local/lib/python3.11/dist-packages/pandas/io/parsers/readers.py\u001b[0m in \u001b[0;36m__init__\u001b[0;34m(self, f, engine, **kwds)\u001b[0m\n\u001b[1;32m   1618\u001b[0m \u001b[0;34m\u001b[0m\u001b[0m\n\u001b[1;32m   1619\u001b[0m         \u001b[0mself\u001b[0m\u001b[0;34m.\u001b[0m\u001b[0mhandles\u001b[0m\u001b[0;34m:\u001b[0m \u001b[0mIOHandles\u001b[0m \u001b[0;34m|\u001b[0m \u001b[0;32mNone\u001b[0m \u001b[0;34m=\u001b[0m \u001b[0;32mNone\u001b[0m\u001b[0;34m\u001b[0m\u001b[0;34m\u001b[0m\u001b[0m\n\u001b[0;32m-> 1620\u001b[0;31m         \u001b[0mself\u001b[0m\u001b[0;34m.\u001b[0m\u001b[0m_engine\u001b[0m \u001b[0;34m=\u001b[0m \u001b[0mself\u001b[0m\u001b[0;34m.\u001b[0m\u001b[0m_make_engine\u001b[0m\u001b[0;34m(\u001b[0m\u001b[0mf\u001b[0m\u001b[0;34m,\u001b[0m \u001b[0mself\u001b[0m\u001b[0;34m.\u001b[0m\u001b[0mengine\u001b[0m\u001b[0;34m)\u001b[0m\u001b[0;34m\u001b[0m\u001b[0;34m\u001b[0m\u001b[0m\n\u001b[0m\u001b[1;32m   1621\u001b[0m \u001b[0;34m\u001b[0m\u001b[0m\n\u001b[1;32m   1622\u001b[0m     \u001b[0;32mdef\u001b[0m \u001b[0mclose\u001b[0m\u001b[0;34m(\u001b[0m\u001b[0mself\u001b[0m\u001b[0;34m)\u001b[0m \u001b[0;34m->\u001b[0m \u001b[0;32mNone\u001b[0m\u001b[0;34m:\u001b[0m\u001b[0;34m\u001b[0m\u001b[0;34m\u001b[0m\u001b[0m\n",
            "\u001b[0;32m/usr/local/lib/python3.11/dist-packages/pandas/io/parsers/readers.py\u001b[0m in \u001b[0;36m_make_engine\u001b[0;34m(self, f, engine)\u001b[0m\n\u001b[1;32m   1878\u001b[0m                 \u001b[0;32mif\u001b[0m \u001b[0;34m\"b\"\u001b[0m \u001b[0;32mnot\u001b[0m \u001b[0;32min\u001b[0m \u001b[0mmode\u001b[0m\u001b[0;34m:\u001b[0m\u001b[0;34m\u001b[0m\u001b[0;34m\u001b[0m\u001b[0m\n\u001b[1;32m   1879\u001b[0m                     \u001b[0mmode\u001b[0m \u001b[0;34m+=\u001b[0m \u001b[0;34m\"b\"\u001b[0m\u001b[0;34m\u001b[0m\u001b[0;34m\u001b[0m\u001b[0m\n\u001b[0;32m-> 1880\u001b[0;31m             self.handles = get_handle(\n\u001b[0m\u001b[1;32m   1881\u001b[0m                 \u001b[0mf\u001b[0m\u001b[0;34m,\u001b[0m\u001b[0;34m\u001b[0m\u001b[0;34m\u001b[0m\u001b[0m\n\u001b[1;32m   1882\u001b[0m                 \u001b[0mmode\u001b[0m\u001b[0;34m,\u001b[0m\u001b[0;34m\u001b[0m\u001b[0;34m\u001b[0m\u001b[0m\n",
            "\u001b[0;32m/usr/local/lib/python3.11/dist-packages/pandas/io/common.py\u001b[0m in \u001b[0;36mget_handle\u001b[0;34m(path_or_buf, mode, encoding, compression, memory_map, is_text, errors, storage_options)\u001b[0m\n\u001b[1;32m    871\u001b[0m         \u001b[0;32mif\u001b[0m \u001b[0mioargs\u001b[0m\u001b[0;34m.\u001b[0m\u001b[0mencoding\u001b[0m \u001b[0;32mand\u001b[0m \u001b[0;34m\"b\"\u001b[0m \u001b[0;32mnot\u001b[0m \u001b[0;32min\u001b[0m \u001b[0mioargs\u001b[0m\u001b[0;34m.\u001b[0m\u001b[0mmode\u001b[0m\u001b[0;34m:\u001b[0m\u001b[0;34m\u001b[0m\u001b[0;34m\u001b[0m\u001b[0m\n\u001b[1;32m    872\u001b[0m             \u001b[0;31m# Encoding\u001b[0m\u001b[0;34m\u001b[0m\u001b[0;34m\u001b[0m\u001b[0m\n\u001b[0;32m--> 873\u001b[0;31m             handle = open(\n\u001b[0m\u001b[1;32m    874\u001b[0m                 \u001b[0mhandle\u001b[0m\u001b[0;34m,\u001b[0m\u001b[0;34m\u001b[0m\u001b[0;34m\u001b[0m\u001b[0m\n\u001b[1;32m    875\u001b[0m                 \u001b[0mioargs\u001b[0m\u001b[0;34m.\u001b[0m\u001b[0mmode\u001b[0m\u001b[0;34m,\u001b[0m\u001b[0;34m\u001b[0m\u001b[0;34m\u001b[0m\u001b[0m\n",
            "\u001b[0;31mFileNotFoundError\u001b[0m: [Errno 2] No such file or directory: 'movies_metadata.csv'"
          ]
        }
      ],
      "source": [
        "import pandas as pd\n",
        "\n",
        "df = pd.read_csv('movies_metadata.csv')\n",
        "\n",
        "print(df.head())\n",
        "\n",
        "# Print the list of column names\n",
        "print(\"Columns in the dataset:\")\n",
        "print(df.columns.tolist())"
      ]
    },
    {
      "cell_type": "code",
      "execution_count": null,
      "metadata": {
        "colab": {
          "base_uri": "https://localhost:8080/"
        },
        "collapsed": true,
        "id": "FCqPFFfaKLjt",
        "outputId": "e9c5a626-5d33-466a-db33-544e4ff0f2db"
      },
      "outputs": [
        {
          "name": "stdout",
          "output_type": "stream",
          "text": [
            "<bound method NDFrame.head of                                                 overview  \\\n",
            "0      Led by Woody, Andy's toys live happily in his ...   \n",
            "1      When siblings Judy and Peter discover an encha...   \n",
            "2      A family wedding reignites the ancient feud be...   \n",
            "3      Cheated on, mistreated and stepped on, the wom...   \n",
            "4      Just when George Banks has recovered from his ...   \n",
            "...                                                  ...   \n",
            "45461        Rising and falling between a man and woman.   \n",
            "45462  An artist struggles to finish his work while a...   \n",
            "45463  When one of her hits goes wrong, a professiona...   \n",
            "45464  In a small town live two brothers, one a minis...   \n",
            "45465  50 years after decriminalisation of homosexual...   \n",
            "\n",
            "                                                  genres  \\\n",
            "0      [{'id': 16, 'name': 'Animation'}, {'id': 35, '...   \n",
            "1      [{'id': 12, 'name': 'Adventure'}, {'id': 14, '...   \n",
            "2      [{'id': 10749, 'name': 'Romance'}, {'id': 35, ...   \n",
            "3      [{'id': 35, 'name': 'Comedy'}, {'id': 18, 'nam...   \n",
            "4                         [{'id': 35, 'name': 'Comedy'}]   \n",
            "...                                                  ...   \n",
            "45461  [{'id': 18, 'name': 'Drama'}, {'id': 10751, 'n...   \n",
            "45462                      [{'id': 18, 'name': 'Drama'}]   \n",
            "45463  [{'id': 28, 'name': 'Action'}, {'id': 18, 'nam...   \n",
            "45464                                                 []   \n",
            "45465                                                 []   \n",
            "\n",
            "                             title  \n",
            "0                        Toy Story  \n",
            "1                          Jumanji  \n",
            "2                 Grumpier Old Men  \n",
            "3                Waiting to Exhale  \n",
            "4      Father of the Bride Part II  \n",
            "...                            ...  \n",
            "45461                       Subdue  \n",
            "45462          Century of Birthing  \n",
            "45463                     Betrayal  \n",
            "45464             Satan Triumphant  \n",
            "45465                     Queerama  \n",
            "\n",
            "[45466 rows x 3 columns]>\n"
          ]
        }
      ],
      "source": [
        "maindf = df[['overview', 'genres', 'title']]\n",
        "print(maindf.head)"
      ]
    },
    {
      "cell_type": "code",
      "execution_count": null,
      "metadata": {
        "colab": {
          "base_uri": "https://localhost:8080/"
        },
        "collapsed": true,
        "id": "nprBXtjGLif5",
        "outputId": "968c7546-8720-43ba-b69f-8411eedc98bc"
      },
      "outputs": [
        {
          "name": "stdout",
          "output_type": "stream",
          "text": [
            "\n",
            "Dataset information:\n",
            "<class 'pandas.core.frame.DataFrame'>\n",
            "RangeIndex: 45466 entries, 0 to 45465\n",
            "Data columns (total 3 columns):\n",
            " #   Column    Non-Null Count  Dtype \n",
            "---  ------    --------------  ----- \n",
            " 0   overview  44512 non-null  object\n",
            " 1   genres    45466 non-null  object\n",
            " 2   title     45460 non-null  object\n",
            "dtypes: object(3)\n",
            "memory usage: 1.0+ MB\n",
            "None\n"
          ]
        }
      ],
      "source": [
        "print(\"\\nDataset information:\")\n",
        "print(maindf.info())"
      ]
    },
    {
      "cell_type": "code",
      "execution_count": null,
      "metadata": {
        "colab": {
          "base_uri": "https://localhost:8080/"
        },
        "collapsed": true,
        "id": "IEjRUovaMDzX",
        "outputId": "e1d3c1a7-e2f1-4f81-aa9c-b063d7d525f9"
      },
      "outputs": [
        {
          "name": "stdout",
          "output_type": "stream",
          "text": [
            "After dropping rows with missing 'overview' or 'title':\n",
            "<class 'pandas.core.frame.DataFrame'>\n",
            "Index: 44506 entries, 0 to 45465\n",
            "Data columns (total 3 columns):\n",
            " #   Column    Non-Null Count  Dtype \n",
            "---  ------    --------------  ----- \n",
            " 0   overview  44506 non-null  object\n",
            " 1   genres    44506 non-null  object\n",
            " 2   title     44506 non-null  object\n",
            "dtypes: object(3)\n",
            "memory usage: 1.4+ MB\n",
            "None\n"
          ]
        }
      ],
      "source": [
        "# Drop rows with missing values in either 'overview' or 'title'\n",
        "df_cleaned = maindf.dropna(subset=['overview', 'title', 'genres'])\n",
        "\n",
        "# Verify the result by checking the DataFrame information\n",
        "print(\"After dropping rows with missing 'overview' or 'title':\")\n",
        "print(df_cleaned.info())"
      ]
    },
    {
      "cell_type": "code",
      "execution_count": null,
      "metadata": {
        "colab": {
          "base_uri": "https://localhost:8080/"
        },
        "collapsed": true,
        "id": "QxBa8q73RB0V",
        "outputId": "bc8049b9-2080-425e-d44d-0ddb88229f18"
      },
      "outputs": [
        {
          "name": "stdout",
          "output_type": "stream",
          "text": [
            "<class 'pandas.core.frame.DataFrame'>\n",
            "Index: 44506 entries, 0 to 45465\n",
            "Data columns (total 3 columns):\n",
            " #   Column    Non-Null Count  Dtype \n",
            "---  ------    --------------  ----- \n",
            " 0   overview  44506 non-null  object\n",
            " 1   genres    44506 non-null  object\n",
            " 2   title     44506 non-null  object\n",
            "dtypes: object(3)\n",
            "memory usage: 1.4+ MB\n",
            "None\n"
          ]
        }
      ],
      "source": [
        "df_train = df_cleaned[['overview', 'genres', 'title']]\n",
        "print(df_train.info())"
      ]
    },
    {
      "cell_type": "markdown",
      "metadata": {
        "id": "V9bWnbBjRWKH"
      },
      "source": [
        "Two datasets,\n",
        "\n",
        "df_cleaned = 'overview', 'title', 'genres'\n",
        "\n",
        "df_train = 'overview', 'title'\n",
        "\n"
      ]
    },
    {
      "cell_type": "markdown",
      "metadata": {
        "id": "uYVUq4OACaDs"
      },
      "source": [
        "* START THE RUN FROM HERE AFTER LOADING THE DATA SET*"
      ]
    },
    {
      "cell_type": "code",
      "execution_count": null,
      "metadata": {
        "id": "Jb0FPmzuR43g"
      },
      "outputs": [],
      "source": [
        "import pandas as pd\n",
        "\n",
        "data = pd.read_csv('train_movies_metadata.csv')"
      ]
    },
    {
      "cell_type": "code",
      "execution_count": null,
      "metadata": {
        "id": "E9mtv2NHSTzc"
      },
      "outputs": [],
      "source": [
        "import pandas as pd\n",
        "\n",
        "evaldata = pd.read_csv('cleaned_movies_metadata.csv')"
      ]
    },
    {
      "cell_type": "markdown",
      "metadata": {
        "id": "BGBOhqFsSyzL"
      },
      "source": [
        "tokenizer : LAMA2\n"
      ]
    },
    {
      "cell_type": "code",
      "execution_count": null,
      "metadata": {
        "colab": {
          "base_uri": "https://localhost:8080/"
        },
        "id": "fpUYoJnuPkMs",
        "outputId": "c9459c81-2ed3-45c5-8aca-b10a35a53acb"
      },
      "outputs": [
        {
          "output_type": "stream",
          "name": "stdout",
          "text": [
            "Collecting datasets\n",
            "  Downloading datasets-3.5.0-py3-none-any.whl.metadata (19 kB)\n",
            "Requirement already satisfied: filelock in /usr/local/lib/python3.11/dist-packages (from datasets) (3.18.0)\n",
            "Requirement already satisfied: numpy>=1.17 in /usr/local/lib/python3.11/dist-packages (from datasets) (2.0.2)\n",
            "Requirement already satisfied: pyarrow>=15.0.0 in /usr/local/lib/python3.11/dist-packages (from datasets) (18.1.0)\n",
            "Collecting dill<0.3.9,>=0.3.0 (from datasets)\n",
            "  Downloading dill-0.3.8-py3-none-any.whl.metadata (10 kB)\n",
            "Requirement already satisfied: pandas in /usr/local/lib/python3.11/dist-packages (from datasets) (2.2.2)\n",
            "Requirement already satisfied: requests>=2.32.2 in /usr/local/lib/python3.11/dist-packages (from datasets) (2.32.3)\n",
            "Requirement already satisfied: tqdm>=4.66.3 in /usr/local/lib/python3.11/dist-packages (from datasets) (4.67.1)\n",
            "Collecting xxhash (from datasets)\n",
            "  Downloading xxhash-3.5.0-cp311-cp311-manylinux_2_17_x86_64.manylinux2014_x86_64.whl.metadata (12 kB)\n",
            "Collecting multiprocess<0.70.17 (from datasets)\n",
            "  Downloading multiprocess-0.70.16-py311-none-any.whl.metadata (7.2 kB)\n",
            "Collecting fsspec<=2024.12.0,>=2023.1.0 (from fsspec[http]<=2024.12.0,>=2023.1.0->datasets)\n",
            "  Downloading fsspec-2024.12.0-py3-none-any.whl.metadata (11 kB)\n",
            "Requirement already satisfied: aiohttp in /usr/local/lib/python3.11/dist-packages (from datasets) (3.11.14)\n",
            "Requirement already satisfied: huggingface-hub>=0.24.0 in /usr/local/lib/python3.11/dist-packages (from datasets) (0.29.3)\n",
            "Requirement already satisfied: packaging in /usr/local/lib/python3.11/dist-packages (from datasets) (24.2)\n",
            "Requirement already satisfied: pyyaml>=5.1 in /usr/local/lib/python3.11/dist-packages (from datasets) (6.0.2)\n",
            "Requirement already satisfied: aiohappyeyeballs>=2.3.0 in /usr/local/lib/python3.11/dist-packages (from aiohttp->datasets) (2.6.1)\n",
            "Requirement already satisfied: aiosignal>=1.1.2 in /usr/local/lib/python3.11/dist-packages (from aiohttp->datasets) (1.3.2)\n",
            "Requirement already satisfied: attrs>=17.3.0 in /usr/local/lib/python3.11/dist-packages (from aiohttp->datasets) (25.3.0)\n",
            "Requirement already satisfied: frozenlist>=1.1.1 in /usr/local/lib/python3.11/dist-packages (from aiohttp->datasets) (1.5.0)\n",
            "Requirement already satisfied: multidict<7.0,>=4.5 in /usr/local/lib/python3.11/dist-packages (from aiohttp->datasets) (6.2.0)\n",
            "Requirement already satisfied: propcache>=0.2.0 in /usr/local/lib/python3.11/dist-packages (from aiohttp->datasets) (0.3.1)\n",
            "Requirement already satisfied: yarl<2.0,>=1.17.0 in /usr/local/lib/python3.11/dist-packages (from aiohttp->datasets) (1.18.3)\n",
            "Requirement already satisfied: typing-extensions>=3.7.4.3 in /usr/local/lib/python3.11/dist-packages (from huggingface-hub>=0.24.0->datasets) (4.13.0)\n",
            "Requirement already satisfied: charset-normalizer<4,>=2 in /usr/local/lib/python3.11/dist-packages (from requests>=2.32.2->datasets) (3.4.1)\n",
            "Requirement already satisfied: idna<4,>=2.5 in /usr/local/lib/python3.11/dist-packages (from requests>=2.32.2->datasets) (3.10)\n",
            "Requirement already satisfied: urllib3<3,>=1.21.1 in /usr/local/lib/python3.11/dist-packages (from requests>=2.32.2->datasets) (2.3.0)\n",
            "Requirement already satisfied: certifi>=2017.4.17 in /usr/local/lib/python3.11/dist-packages (from requests>=2.32.2->datasets) (2025.1.31)\n",
            "Requirement already satisfied: python-dateutil>=2.8.2 in /usr/local/lib/python3.11/dist-packages (from pandas->datasets) (2.8.2)\n",
            "Requirement already satisfied: pytz>=2020.1 in /usr/local/lib/python3.11/dist-packages (from pandas->datasets) (2025.2)\n",
            "Requirement already satisfied: tzdata>=2022.7 in /usr/local/lib/python3.11/dist-packages (from pandas->datasets) (2025.2)\n",
            "Requirement already satisfied: six>=1.5 in /usr/local/lib/python3.11/dist-packages (from python-dateutil>=2.8.2->pandas->datasets) (1.17.0)\n",
            "Downloading datasets-3.5.0-py3-none-any.whl (491 kB)\n",
            "\u001b[2K   \u001b[90m━━━━━━━━━━━━━━━━━━━━━━━━━━━━━━━━━━━━━━━━\u001b[0m \u001b[32m491.2/491.2 kB\u001b[0m \u001b[31m34.1 MB/s\u001b[0m eta \u001b[36m0:00:00\u001b[0m\n",
            "\u001b[?25hDownloading dill-0.3.8-py3-none-any.whl (116 kB)\n",
            "\u001b[2K   \u001b[90m━━━━━━━━━━━━━━━━━━━━━━━━━━━━━━━━━━━━━━━━\u001b[0m \u001b[32m116.3/116.3 kB\u001b[0m \u001b[31m12.4 MB/s\u001b[0m eta \u001b[36m0:00:00\u001b[0m\n",
            "\u001b[?25hDownloading fsspec-2024.12.0-py3-none-any.whl (183 kB)\n",
            "\u001b[2K   \u001b[90m━━━━━━━━━━━━━━━━━━━━━━━━━━━━━━━━━━━━━━━━\u001b[0m \u001b[32m183.9/183.9 kB\u001b[0m \u001b[31m17.1 MB/s\u001b[0m eta \u001b[36m0:00:00\u001b[0m\n",
            "\u001b[?25hDownloading multiprocess-0.70.16-py311-none-any.whl (143 kB)\n",
            "\u001b[2K   \u001b[90m━━━━━━━━━━━━━━━━━━━━━━━━━━━━━━━━━━━━━━━━\u001b[0m \u001b[32m143.5/143.5 kB\u001b[0m \u001b[31m14.2 MB/s\u001b[0m eta \u001b[36m0:00:00\u001b[0m\n",
            "\u001b[?25hDownloading xxhash-3.5.0-cp311-cp311-manylinux_2_17_x86_64.manylinux2014_x86_64.whl (194 kB)\n",
            "\u001b[2K   \u001b[90m━━━━━━━━━━━━━━━━━━━━━━━━━━━━━━━━━━━━━━━━\u001b[0m \u001b[32m194.8/194.8 kB\u001b[0m \u001b[31m18.3 MB/s\u001b[0m eta \u001b[36m0:00:00\u001b[0m\n",
            "\u001b[?25hInstalling collected packages: xxhash, fsspec, dill, multiprocess, datasets\n",
            "  Attempting uninstall: fsspec\n",
            "    Found existing installation: fsspec 2025.3.0\n",
            "    Uninstalling fsspec-2025.3.0:\n",
            "      Successfully uninstalled fsspec-2025.3.0\n",
            "\u001b[31mERROR: pip's dependency resolver does not currently take into account all the packages that are installed. This behaviour is the source of the following dependency conflicts.\n",
            "torch 2.6.0+cu124 requires nvidia-cublas-cu12==12.4.5.8; platform_system == \"Linux\" and platform_machine == \"x86_64\", but you have nvidia-cublas-cu12 12.5.3.2 which is incompatible.\n",
            "torch 2.6.0+cu124 requires nvidia-cuda-cupti-cu12==12.4.127; platform_system == \"Linux\" and platform_machine == \"x86_64\", but you have nvidia-cuda-cupti-cu12 12.5.82 which is incompatible.\n",
            "torch 2.6.0+cu124 requires nvidia-cuda-nvrtc-cu12==12.4.127; platform_system == \"Linux\" and platform_machine == \"x86_64\", but you have nvidia-cuda-nvrtc-cu12 12.5.82 which is incompatible.\n",
            "torch 2.6.0+cu124 requires nvidia-cuda-runtime-cu12==12.4.127; platform_system == \"Linux\" and platform_machine == \"x86_64\", but you have nvidia-cuda-runtime-cu12 12.5.82 which is incompatible.\n",
            "torch 2.6.0+cu124 requires nvidia-cudnn-cu12==9.1.0.70; platform_system == \"Linux\" and platform_machine == \"x86_64\", but you have nvidia-cudnn-cu12 9.3.0.75 which is incompatible.\n",
            "torch 2.6.0+cu124 requires nvidia-cufft-cu12==11.2.1.3; platform_system == \"Linux\" and platform_machine == \"x86_64\", but you have nvidia-cufft-cu12 11.2.3.61 which is incompatible.\n",
            "torch 2.6.0+cu124 requires nvidia-curand-cu12==10.3.5.147; platform_system == \"Linux\" and platform_machine == \"x86_64\", but you have nvidia-curand-cu12 10.3.6.82 which is incompatible.\n",
            "torch 2.6.0+cu124 requires nvidia-cusolver-cu12==11.6.1.9; platform_system == \"Linux\" and platform_machine == \"x86_64\", but you have nvidia-cusolver-cu12 11.6.3.83 which is incompatible.\n",
            "torch 2.6.0+cu124 requires nvidia-cusparse-cu12==12.3.1.170; platform_system == \"Linux\" and platform_machine == \"x86_64\", but you have nvidia-cusparse-cu12 12.5.1.3 which is incompatible.\n",
            "torch 2.6.0+cu124 requires nvidia-nvjitlink-cu12==12.4.127; platform_system == \"Linux\" and platform_machine == \"x86_64\", but you have nvidia-nvjitlink-cu12 12.5.82 which is incompatible.\n",
            "gcsfs 2025.3.0 requires fsspec==2025.3.0, but you have fsspec 2024.12.0 which is incompatible.\u001b[0m\u001b[31m\n",
            "\u001b[0mSuccessfully installed datasets-3.5.0 dill-0.3.8 fsspec-2024.12.0 multiprocess-0.70.16 xxhash-3.5.0\n"
          ]
        }
      ],
      "source": [
        "!pip install datasets\n"
      ]
    },
    {
      "cell_type": "code",
      "execution_count": null,
      "metadata": {
        "colab": {
          "base_uri": "https://localhost:8080/"
        },
        "id": "Lb3rO3v1SgTF",
        "outputId": "0e949604-28b6-427c-9e9c-3f3c7a867966"
      },
      "outputs": [
        {
          "output_type": "stream",
          "name": "stdout",
          "text": [
            "                                            overview  \\\n",
            "0  Led by Woody, Andy's toys live happily in his ...   \n",
            "1  When siblings Judy and Peter discover an encha...   \n",
            "2  A family wedding reignites the ancient feud be...   \n",
            "3  Cheated on, mistreated and stepped on, the wom...   \n",
            "4  Just when George Banks has recovered from his ...   \n",
            "\n",
            "                                              genres  \\\n",
            "0  [{'id': 16, 'name': 'Animation'}, {'id': 35, '...   \n",
            "1  [{'id': 12, 'name': 'Adventure'}, {'id': 14, '...   \n",
            "2  [{'id': 10749, 'name': 'Romance'}, {'id': 35, ...   \n",
            "3  [{'id': 35, 'name': 'Comedy'}, {'id': 18, 'nam...   \n",
            "4                     [{'id': 35, 'name': 'Comedy'}]   \n",
            "\n",
            "                         title  \n",
            "0                    Toy Story  \n",
            "1                      Jumanji  \n",
            "2             Grumpier Old Men  \n",
            "3            Waiting to Exhale  \n",
            "4  Father of the Bride Part II  \n"
          ]
        }
      ],
      "source": [
        "import pandas as pd\n",
        "import torch\n",
        "import numpy as np\n",
        "from transformers import LlamaForCausalLM, LlamaTokenizer, Trainer, TrainingArguments\n",
        "from peft import get_peft_model, LoraConfig, TaskType\n",
        "from datasets import Dataset\n",
        "\n",
        "# Load data\n",
        "train_data = pd.read_csv('/content/train_movies_metadata.csv')\n",
        "eval_data = pd.read_csv('/content/train_movies_metadata.csv')\n",
        "\n",
        "# Quick check\n",
        "print(train_data.head())\n"
      ]
    },
    {
      "cell_type": "code",
      "execution_count": null,
      "metadata": {
        "colab": {
          "base_uri": "https://localhost:8080/"
        },
        "id": "ZbW1ABQ4QE21",
        "outputId": "29420953-9a71-46f4-d705-8349bf24aa57"
      },
      "outputs": [
        {
          "output_type": "stream",
          "name": "stdout",
          "text": [
            "                                                overview  \\\n",
            "17964  An unusual ghost story set on the Peruvian sea...   \n",
            "5055   Professor Ayres discovers a secret in an ancie...   \n",
            "40104  A couple hires a professional digger (undergro...   \n",
            "7671   To reconcile with his girlfriend, a bookish co...   \n",
            "24172  Charlie's investigation of a phony psychic dur...   \n",
            "\n",
            "                                                  genres  \n",
            "17964  [[{'id': 18, 'name': 'Drama'}, {'id': 10749, '...  \n",
            "5055                    [[{'id': 27, 'name': 'Horror'}]]  \n",
            "40104                   [[{'id': 27, 'name': 'Horror'}]]  \n",
            "7671   [[{'id': 18, 'name': 'Drama'}, {'id': 35, 'nam...  \n",
            "24172  [[{'id': 9648, 'name': 'Mystery'}, {'id': 53, ...  \n"
          ]
        }
      ],
      "source": [
        "import pandas as pd\n",
        "from sklearn.preprocessing import MultiLabelBinarizer\n",
        "\n",
        "# Load data\n",
        "data = pd.read_csv('train_movies_metadata.csv')\n",
        "data = data[['overview', 'genres']].dropna()\n",
        "data['genres'] = data['genres'].apply(lambda x: x.split('|'))\n",
        "\n",
        "# Subsample data if needed (e.g., 10k examples)\n",
        "data = data.sample(n=10000, random_state=42)\n",
        "\n",
        "print(data.head())\n",
        "\n",
        "# Create and fit the MultiLabelBinarizer\n",
        "mlb = MultiLabelBinarizer()\n",
        "genre_labels = mlb.fit_transform(data['genres'])\n",
        "\n",
        "# Now you can split data and convert to Hugging Face Dataset...\n"
      ]
    },
    {
      "cell_type": "code",
      "source": [
        "import pandas as pd\n",
        "import ast\n",
        "\n",
        "# Load the CSV file\n",
        "data = pd.read_csv('train_movies_metadata.csv')\n",
        "\n",
        "def clean_genres(genre_str):\n",
        "    \"\"\"\n",
        "    Convert a genre string into a list of genre names.\n",
        "    Handles two cases:\n",
        "      1. A pipe-separated string (e.g., \"Action|Comedy|Drama\")\n",
        "      2. A string representation of a list of dictionaries (e.g.,\n",
        "         \"[{'id': 28, 'name': 'Action'}, {'id': 35, 'name': 'Comedy'}]\")\n",
        "    \"\"\"\n",
        "    if pd.isna(genre_str):\n",
        "        return []\n",
        "    # Case 1: Pipe-separated string\n",
        "    if isinstance(genre_str, str) and '|' in genre_str:\n",
        "        return [g.strip() for g in genre_str.split('|') if g.strip() != '']\n",
        "    # Case 2: String representation of a list of dictionaries\n",
        "    try:\n",
        "        parsed = ast.literal_eval(genre_str)\n",
        "        if isinstance(parsed, list):\n",
        "            names = []\n",
        "            for item in parsed:\n",
        "                if isinstance(item, dict) and 'name' in item:\n",
        "                    names.append(item['name'])\n",
        "                elif isinstance(item, str):\n",
        "                    names.append(item)\n",
        "            return names\n",
        "    except Exception:\n",
        "        pass\n",
        "    return []\n",
        "\n",
        "# Create a new column 'cleaned_genres'\n",
        "data['cleaned_genres'] = data['genres'].apply(clean_genres)\n",
        "\n",
        "# Optionally, drop rows with no genres after cleaning\n",
        "data = data[data['cleaned_genres'].map(lambda x: len(x)) > 0]\n",
        "\n",
        "# Display the first 10 rows to verify the cleaning process\n",
        "print(data[['overview', 'cleaned_genres']].head(10))\n",
        "print(\"Number of movies after cleaning:\", len(data))\n"
      ],
      "metadata": {
        "colab": {
          "base_uri": "https://localhost:8080/"
        },
        "id": "QjYi-B8fCgon",
        "outputId": "9be1c918-5617-49ab-cd2a-f921bc56495e"
      },
      "execution_count": null,
      "outputs": [
        {
          "output_type": "stream",
          "name": "stdout",
          "text": [
            "                                            overview  \\\n",
            "0  Led by Woody, Andy's toys live happily in his ...   \n",
            "1  When siblings Judy and Peter discover an encha...   \n",
            "2  A family wedding reignites the ancient feud be...   \n",
            "3  Cheated on, mistreated and stepped on, the wom...   \n",
            "4  Just when George Banks has recovered from his ...   \n",
            "5  Obsessive master thief, Neil McCauley leads a ...   \n",
            "6  An ugly duckling having undergone a remarkable...   \n",
            "7  A mischievous young boy, Tom Sawyer, witnesses...   \n",
            "8  International action superstar Jean Claude Van...   \n",
            "9  James Bond must unmask the mysterious head of ...   \n",
            "\n",
            "                       cleaned_genres  \n",
            "0         [Animation, Comedy, Family]  \n",
            "1        [Adventure, Fantasy, Family]  \n",
            "2                   [Romance, Comedy]  \n",
            "3            [Comedy, Drama, Romance]  \n",
            "4                            [Comedy]  \n",
            "5    [Action, Crime, Drama, Thriller]  \n",
            "6                   [Comedy, Romance]  \n",
            "7  [Action, Adventure, Drama, Family]  \n",
            "8       [Action, Adventure, Thriller]  \n",
            "9       [Adventure, Action, Thriller]  \n",
            "Number of movies after cleaning: 42321\n"
          ]
        }
      ]
    },
    {
      "cell_type": "code",
      "execution_count": null,
      "metadata": {
        "colab": {
          "base_uri": "https://localhost:8080/",
          "height": 706,
          "referenced_widgets": [
            "17759ac68edd48329c64be4fecea38bf",
            "4c97906f6ccb4b1b96b0795aac1a95e7",
            "84304d9360704ec0a26240f64225558f",
            "924d8d0a394348ce93bf6691be2ff3f4",
            "dbb1e3dd175e42b78734e7156b5b29e3",
            "6798107e5a6141499804a879e9b297e1",
            "67078c671fbd4a37a0f2575b6519449f",
            "6b6870c24c3f4bbc8418272eadcac432",
            "c556f8d1caa64b76962871e0018e8bb0",
            "f929255b236045ba9e5ac99f4944c249",
            "db28c938497e46329281a70d09fe1f56",
            "bcae2eac918842cbaa272a13184bcad7",
            "ac7fd508cc8e499d8ca89da9529f6b6d",
            "d686a12d236944da9940ff7a31c7e149",
            "fc6368dd21744adba6cdf45715eaebf3",
            "654d3b57d3534708814bef0f8ced9669",
            "cefb6dc2f81b411686502a622fda84ee",
            "f60aeea767874a6e94c04253b0fac2d5",
            "024f298cd1ec4bed8858d02882bffeee",
            "18e2e794163c4c3ea5534f76192f6bfd",
            "5864f8c892084c5e9798135f11c883ca",
            "8e7cb715013343f2ac1eb601418e0107"
          ]
        },
        "id": "jmwQ6I3GpS0j",
        "outputId": "17b0d162-ac95-4f37-a46d-dc91a4d7bdfd"
      },
      "outputs": [
        {
          "output_type": "stream",
          "name": "stdout",
          "text": [
            "                                            overview  \\\n",
            "0  Led by Woody, Andy's toys live happily in his ...   \n",
            "1  When siblings Judy and Peter discover an encha...   \n",
            "2  A family wedding reignites the ancient feud be...   \n",
            "3  Cheated on, mistreated and stepped on, the wom...   \n",
            "4  Just when George Banks has recovered from his ...   \n",
            "5  Obsessive master thief, Neil McCauley leads a ...   \n",
            "6  An ugly duckling having undergone a remarkable...   \n",
            "7  A mischievous young boy, Tom Sawyer, witnesses...   \n",
            "8  International action superstar Jean Claude Van...   \n",
            "9  James Bond must unmask the mysterious head of ...   \n",
            "\n",
            "                       cleaned_genres  \n",
            "0         [Animation, Comedy, Family]  \n",
            "1        [Adventure, Fantasy, Family]  \n",
            "2                   [Romance, Comedy]  \n",
            "3            [Comedy, Drama, Romance]  \n",
            "4                            [Comedy]  \n",
            "5    [Action, Crime, Drama, Thriller]  \n",
            "6                   [Comedy, Romance]  \n",
            "7  [Action, Adventure, Drama, Family]  \n",
            "8       [Action, Adventure, Thriller]  \n",
            "9       [Adventure, Action, Thriller]  \n",
            "Number of movies after cleaning: 42321\n"
          ]
        },
        {
          "output_type": "stream",
          "name": "stderr",
          "text": [
            "Some weights of BertForSequenceClassification were not initialized from the model checkpoint at bert-base-uncased and are newly initialized: ['classifier.bias', 'classifier.weight']\n",
            "You should probably TRAIN this model on a down-stream task to be able to use it for predictions and inference.\n"
          ]
        },
        {
          "output_type": "display_data",
          "data": {
            "text/plain": [
              "Map:   0%|          | 0/33856 [00:00<?, ? examples/s]"
            ],
            "application/vnd.jupyter.widget-view+json": {
              "version_major": 2,
              "version_minor": 0,
              "model_id": "17759ac68edd48329c64be4fecea38bf"
            }
          },
          "metadata": {}
        },
        {
          "output_type": "display_data",
          "data": {
            "text/plain": [
              "Map:   0%|          | 0/8465 [00:00<?, ? examples/s]"
            ],
            "application/vnd.jupyter.widget-view+json": {
              "version_major": 2,
              "version_minor": 0,
              "model_id": "bcae2eac918842cbaa272a13184bcad7"
            }
          },
          "metadata": {}
        },
        {
          "output_type": "stream",
          "name": "stdout",
          "text": [
            "pos_weight (clipped): tensor([ 5.3795, 11.3652, 20.9417,  2.3134,  8.7963,  9.9072,  1.1124, 14.5947,\n",
            "        17.3800, 25.6164, 29.6667,  8.2100, 25.5537, 16.3532,  5.3176, 13.1008,\n",
            "        54.0504,  4.5347, 31.0606, 39.6435])\n"
          ]
        },
        {
          "output_type": "display_data",
          "data": {
            "text/plain": [
              "<IPython.core.display.HTML object>"
            ],
            "text/html": [
              "\n",
              "    <div>\n",
              "      \n",
              "      <progress value='4834' max='10580' style='width:300px; height:20px; vertical-align: middle;'></progress>\n",
              "      [ 4834/10580 04:40 < 05:32, 17.26 it/s, Epoch 2.28/5]\n",
              "    </div>\n",
              "    <table border=\"1\" class=\"dataframe\">\n",
              "  <thead>\n",
              " <tr style=\"text-align: left;\">\n",
              "      <th>Epoch</th>\n",
              "      <th>Training Loss</th>\n",
              "      <th>Validation Loss</th>\n",
              "    </tr>\n",
              "  </thead>\n",
              "  <tbody>\n",
              "    <tr>\n",
              "      <td>1</td>\n",
              "      <td>0.745900</td>\n",
              "      <td>0.722825</td>\n",
              "    </tr>\n",
              "    <tr>\n",
              "      <td>2</td>\n",
              "      <td>0.626300</td>\n",
              "      <td>0.686445</td>\n",
              "    </tr>\n",
              "  </tbody>\n",
              "</table><p>"
            ]
          },
          "metadata": {}
        }
      ],
      "source": [
        "import pandas as pd\n",
        "import numpy as np\n",
        "import ast\n",
        "from sklearn.preprocessing import MultiLabelBinarizer\n",
        "from sklearn.model_selection import train_test_split\n",
        "from transformers import AutoTokenizer, AutoModelForSequenceClassification, TrainingArguments, Trainer\n",
        "import torch\n",
        "from datasets import Dataset\n",
        "from sklearn.metrics import f1_score\n",
        "\n",
        "# --- Data Loading & Cleaning ---\n",
        "data = pd.read_csv('train_movies_metadata.csv')\n",
        "data = data[['overview', 'genres']].dropna()\n",
        "\n",
        "def clean_genres(genre_str):\n",
        "    \"\"\"\n",
        "    Cleans a genre string by handling:\n",
        "    1. Pipe-separated strings (e.g., \"Action|Comedy|Drama\")\n",
        "    2. String representations of lists of dictionaries (e.g., \"[{'id': 28, 'name': 'Action'}, ...]\")\n",
        "    Returns a list of genre names.\n",
        "    \"\"\"\n",
        "    if pd.isna(genre_str):\n",
        "        return []\n",
        "    if isinstance(genre_str, str) and '|' in genre_str:\n",
        "        return [g.strip() for g in genre_str.split('|') if g.strip()]\n",
        "    try:\n",
        "        parsed = ast.literal_eval(genre_str)\n",
        "        if isinstance(parsed, list):\n",
        "            names = []\n",
        "            for item in parsed:\n",
        "                if isinstance(item, dict) and 'name' in item:\n",
        "                    names.append(item['name'])\n",
        "                elif isinstance(item, str):\n",
        "                    names.append(item)\n",
        "            return names\n",
        "    except Exception:\n",
        "        pass\n",
        "    return []\n",
        "\n",
        "data['cleaned_genres'] = data['genres'].apply(clean_genres)\n",
        "data = data[data['cleaned_genres'].map(lambda x: len(x)) > 0]\n",
        "print(data[['overview', 'cleaned_genres']].head(10))\n",
        "print(\"Number of movies after cleaning:\", len(data))\n",
        "\n",
        "# --- Label Encoding ---\n",
        "mlb = MultiLabelBinarizer()\n",
        "genre_labels = mlb.fit_transform(data['cleaned_genres']).astype(np.float32)\n",
        "\n",
        "# --- Train/Validation Split ---\n",
        "train_texts, val_texts, train_labels, val_labels = train_test_split(\n",
        "    data['overview'].tolist(), genre_labels, test_size=0.2, random_state=42\n",
        ")\n",
        "train_dataset = Dataset.from_dict({'text': train_texts, 'labels': train_labels})\n",
        "val_dataset = Dataset.from_dict({'text': val_texts, 'labels': val_labels})\n",
        "\n",
        "# --- Model & Tokenizer Setup ---\n",
        "# Switched to a larger model for improved performance\n",
        "model_name = 'bert-base-uncased'\n",
        "tokenizer = AutoTokenizer.from_pretrained(model_name)\n",
        "model = AutoModelForSequenceClassification.from_pretrained(\n",
        "    model_name,\n",
        "    num_labels=len(mlb.classes_),\n",
        "    problem_type=\"multi_label_classification\"\n",
        ")\n",
        "\n",
        "# --- Tokenization ---\n",
        "def tokenize(batch):\n",
        "    return tokenizer(batch['text'], padding=\"max_length\", truncation=True, max_length=256)\n",
        "\n",
        "train_dataset = train_dataset.map(tokenize, batched=True)\n",
        "val_dataset = val_dataset.map(tokenize, batched=True)\n",
        "\n",
        "train_dataset.set_format('torch', columns=['input_ids', 'attention_mask', 'labels'])\n",
        "val_dataset.set_format('torch', columns=['input_ids', 'attention_mask', 'labels'])\n",
        "\n",
        "# --- Compute pos_weight for Weighted Loss ---\n",
        "train_labels_np = np.array(train_dataset[\"labels\"])  # shape: (num_samples, num_labels)\n",
        "positive_counts = np.sum(train_labels_np, axis=0)\n",
        "negative_counts = train_labels_np.shape[0] - positive_counts\n",
        "pos_weight = torch.tensor(negative_counts / (positive_counts + 1e-5), dtype=torch.float32)\n",
        "pos_weight = torch.clamp(pos_weight, max=1000.0)\n",
        "print(\"pos_weight (clipped):\", pos_weight)\n",
        "\n",
        "# --- Custom Trainer with Weighted Loss ---\n",
        "class CustomTrainer(Trainer):\n",
        "    def compute_loss(self, model, inputs, return_outputs=False, **kwargs):\n",
        "        labels = inputs.get(\"labels\")\n",
        "        outputs = model(**inputs)\n",
        "        logits = outputs.logits\n",
        "        loss_fct = torch.nn.BCEWithLogitsLoss(pos_weight=pos_weight.to(model.device))\n",
        "        loss = loss_fct(logits, labels)\n",
        "        return (loss, outputs) if return_outputs else loss\n",
        "\n",
        "# --- Training Arguments ---\n",
        "training_args = TrainingArguments(\n",
        "    output_dir='./movie-genre-model',\n",
        "    eval_strategy='epoch',\n",
        "    learning_rate=1e-5,\n",
        "    per_device_train_batch_size=16,\n",
        "    per_device_eval_batch_size=16,\n",
        "    num_train_epochs=5,\n",
        "    weight_decay=0.01,\n",
        "    logging_steps=10,\n",
        "    save_total_limit=2,\n",
        "    fp16=True,\n",
        "    report_to='none'\n",
        ")\n",
        "\n",
        "trainer = CustomTrainer(\n",
        "    model=model,\n",
        "    args=training_args,\n",
        "    train_dataset=train_dataset,\n",
        "    eval_dataset=val_dataset\n",
        ")\n",
        "\n",
        "# --- Training ---\n",
        "trainer.train()\n",
        "\n",
        "# --- Evaluation with Dynamic Thresholding ---\n",
        "from sklearn.metrics import accuracy_score, precision_score, recall_score\n",
        "\n",
        "# Get raw predictions from the validation set\n",
        "pred_output = trainer.predict(val_dataset)\n",
        "logits = pred_output.predictions\n",
        "true_labels = np.array(val_dataset[\"labels\"])\n",
        "\n",
        "# Function to evaluate at a given threshold\n",
        "def evaluate_threshold(threshold):\n",
        "    preds = (torch.sigmoid(torch.tensor(logits)) > threshold).numpy().astype(np.int32)\n",
        "    acc = accuracy_score(true_labels, preds)\n",
        "    precision = precision_score(true_labels, preds, average=\"micro\", zero_division=0)\n",
        "    recall = recall_score(true_labels, preds, average=\"micro\", zero_division=0)\n",
        "    f1 = f1_score(true_labels, preds, average=\"micro\", zero_division=0)\n",
        "    return acc, precision, recall, f1\n",
        "\n",
        "thresholds = np.linspace(0.1, 0.8, 8)\n",
        "best_threshold = 0.5\n",
        "best_f1 = 0.0\n",
        "\n",
        "print(\"Threshold\\tAccuracy\\tPrecision\\tRecall\\t\\tF1 Score\")\n",
        "for thresh in thresholds:\n",
        "    acc, precision, recall, f1 = evaluate_threshold(thresh)\n",
        "    print(f\"{thresh:.2f}\\t\\t{acc:.4f}\\t\\t{precision:.4f}\\t\\t{recall:.4f}\\t\\t{f1:.4f}\")\n",
        "    if f1 > best_f1:\n",
        "        best_f1 = f1\n",
        "        best_threshold = thresh\n",
        "\n",
        "print(\"\\nOptimal Threshold:\", best_threshold)\n",
        "acc, precision, recall, f1 = evaluate_threshold(best_threshold)\n",
        "print(\"Evaluation with optimal threshold\", best_threshold)\n",
        "print(\"Accuracy:\", acc)\n",
        "print(\"Precision:\", precision)\n",
        "print(\"Recall:\", recall)\n",
        "print(\"F1 Score:\", f1)\n"
      ]
    },
    {
      "cell_type": "code",
      "execution_count": 39,
      "metadata": {
        "colab": {
          "base_uri": "https://localhost:8080/",
          "height": 1000
        },
        "id": "izBJml3veuXY",
        "outputId": "002d86d9-e7e4-4d08-dceb-3e2e0770d15a"
      },
      "outputs": [
        {
          "output_type": "display_data",
          "data": {
            "text/plain": [
              "<Figure size 1600x1500 with 40 Axes>"
            ],
            "image/png": "[encoded data removed]"
          },
          "metadata": {}
        }
      ],
      "source": [
        "import matplotlib.pyplot as plt\n",
        "import seaborn as sns\n",
        "from sklearn.metrics import multilabel_confusion_matrix\n",
        "\n",
        "# Assume best_threshold and true_labels are defined from previous evaluation\n",
        "# For example, using the optimal threshold:\n",
        "best_threshold = 0.7  # from your evaluation above\n",
        "preds_optimal = (torch.sigmoid(torch.tensor(logits)) > best_threshold).numpy().astype(np.int32)\n",
        "true_labels = np.array(val_dataset[\"labels\"])\n",
        "\n",
        "# Compute a separate 2x2 confusion matrix for each label\n",
        "mcm = multilabel_confusion_matrix(true_labels, preds_optimal)\n",
        "num_labels = len(mlb.classes_)\n",
        "\n",
        "# Plotting: if the number of labels is small, use a grid; otherwise, plot individually.\n",
        "if num_labels <= 20:\n",
        "    cols = 4\n",
        "    rows = (num_labels // cols) + (num_labels % cols > 0)\n",
        "    fig, axes = plt.subplots(rows, cols, figsize=(cols*4, rows*3))\n",
        "    axes = axes.flatten()\n",
        "    for idx, cm in enumerate(mcm):\n",
        "        sns.heatmap(cm, annot=True, fmt=\"d\", cmap=\"Blues\", ax=axes[idx])\n",
        "        axes[idx].set_title(mlb.classes_[idx])\n",
        "        axes[idx].set_xlabel(\"Predicted\")\n",
        "        axes[idx].set_ylabel(\"True\")\n",
        "    # Turn off any extra subplots\n",
        "    for ax in axes[num_labels:]:\n",
        "        ax.axis('off')\n",
        "    plt.tight_layout()\n",
        "    plt.show()\n",
        "else:\n",
        "    # If there are many labels, plot one by one\n",
        "    for idx, cm in enumerate(mcm):\n",
        "        plt.figure(figsize=(4,3))\n",
        "        sns.heatmap(cm, annot=True, fmt=\"d\", cmap=\"Blues\")\n",
        "        plt.title(f\"Confusion Matrix for {mlb.classes_[idx]}\")\n",
        "        plt.xlabel(\"Predicted\")\n",
        "        plt.ylabel(\"True\")\n",
        "        plt.show()\n"
      ]
    },
    {
      "cell_type": "code",
      "execution_count": 42,
      "metadata": {
        "colab": {
          "base_uri": "https://localhost:8080/"
        },
        "id": "yJsoSaUBewZj",
        "outputId": "a76e8354-636e-4eda-f0c7-2eb616e7629d"
      },
      "outputs": [
        {
          "output_type": "execute_result",
          "data": {
            "text/plain": [
              "('./movie-genre-model/tokenizer_config.json',\n",
              " './movie-genre-model/special_tokens_map.json',\n",
              " './movie-genre-model/vocab.txt',\n",
              " './movie-genre-model/added_tokens.json',\n",
              " './movie-genre-model/tokenizer.json')"
            ]
          },
          "metadata": {},
          "execution_count": 42
        }
      ],
      "source": [
        "model.save_pretrained(\"./movie-genre-model\")\n",
        "tokenizer.save_pretrained(\"./movie-genre-model\")\n"
      ]
    },
    {
      "cell_type": "code",
      "execution_count": null,
      "metadata": {
        "id": "CgKHx7z5sl51"
      },
      "outputs": [],
      "source": []
    },
    {
      "cell_type": "code",
      "execution_count": null,
      "metadata": {
        "id": "5wm_Ab51slwu"
      },
      "outputs": [],
      "source": []
    }
  ],
  "metadata": {
    "accelerator": "GPU",
    "colab": {
      "gpuType": "A100",
      "provenance": [],
      "machine_shape": "hm"
    },
    "kernelspec": {
      "display_name": "Python 3",
      "name": "python3"
    },
    "language_info": {
      "name": "python"
    },
    "widgets": {
      "application/vnd.jupyter.widget-state+json": {
        "17759ac68edd48329c64be4fecea38bf": {
          "model_module": "@jupyter-widgets/controls",
          "model_name": "HBoxModel",
          "model_module_version": "1.5.0",
          "state": {
            "_dom_classes": [],
            "_model_module": "@jupyter-widgets/controls",
            "_model_module_version": "1.5.0",
            "_model_name": "HBoxModel",
            "_view_count": null,
            "_view_module": "@jupyter-widgets/controls",
            "_view_module_version": "1.5.0",
            "_view_name": "HBoxView",
            "box_style": "",
            "children": [
              "IPY_MODEL_4c97906f6ccb4b1b96b0795aac1a95e7",
              "IPY_MODEL_84304d9360704ec0a26240f64225558f",
              "IPY_MODEL_924d8d0a394348ce93bf6691be2ff3f4"
            ],
            "layout": "IPY_MODEL_dbb1e3dd175e42b78734e7156b5b29e3"
          }
        },
        "4c97906f6ccb4b1b96b0795aac1a95e7": {
          "model_module": "@jupyter-widgets/controls",
          "model_name": "HTMLModel",
          "model_module_version": "1.5.0",
          "state": {
            "_dom_classes": [],
            "_model_module": "@jupyter-widgets/controls",
            "_model_module_version": "1.5.0",
            "_model_name": "HTMLModel",
            "_view_count": null,
            "_view_module": "@jupyter-widgets/controls",
            "_view_module_version": "1.5.0",
            "_view_name": "HTMLView",
            "description": "",
            "description_tooltip": null,
            "layout": "IPY_MODEL_6798107e5a6141499804a879e9b297e1",
            "placeholder": "​",
            "style": "IPY_MODEL_67078c671fbd4a37a0f2575b6519449f",
            "value": "Map: 100%"
          }
        },
        "84304d9360704ec0a26240f64225558f": {
          "model_module": "@jupyter-widgets/controls",
          "model_name": "FloatProgressModel",
          "model_module_version": "1.5.0",
          "state": {
            "_dom_classes": [],
            "_model_module": "@jupyter-widgets/controls",
            "_model_module_version": "1.5.0",
            "_model_name": "FloatProgressModel",
            "_view_count": null,
            "_view_module": "@jupyter-widgets/controls",
            "_view_module_version": "1.5.0",
            "_view_name": "ProgressView",
            "bar_style": "success",
            "description": "",
            "description_tooltip": null,
            "layout": "IPY_MODEL_6b6870c24c3f4bbc8418272eadcac432",
            "max": 33856,
            "min": 0,
            "orientation": "horizontal",
            "style": "IPY_MODEL_c556f8d1caa64b76962871e0018e8bb0",
            "value": 33856
          }
        },
        "924d8d0a394348ce93bf6691be2ff3f4": {
          "model_module": "@jupyter-widgets/controls",
          "model_name": "HTMLModel",
          "model_module_version": "1.5.0",
          "state": {
            "_dom_classes": [],
            "_model_module": "@jupyter-widgets/controls",
            "_model_module_version": "1.5.0",
            "_model_name": "HTMLModel",
            "_view_count": null,
            "_view_module": "@jupyter-widgets/controls",
            "_view_module_version": "1.5.0",
            "_view_name": "HTMLView",
            "description": "",
            "description_tooltip": null,
            "layout": "IPY_MODEL_f929255b236045ba9e5ac99f4944c249",
            "placeholder": "​",
            "style": "IPY_MODEL_db28c938497e46329281a70d09fe1f56",
            "value": " 33856/33856 [00:06&lt;00:00, 5807.87 examples/s]"
          }
        },
        "dbb1e3dd175e42b78734e7156b5b29e3": {
          "model_module": "@jupyter-widgets/base",
          "model_name": "LayoutModel",
          "model_module_version": "1.2.0",
          "state": {
            "_model_module": "@jupyter-widgets/base",
            "_model_module_version": "1.2.0",
            "_model_name": "LayoutModel",
            "_view_count": null,
            "_view_module": "@jupyter-widgets/base",
            "_view_module_version": "1.2.0",
            "_view_name": "LayoutView",
            "align_content": null,
            "align_items": null,
            "align_self": null,
            "border": null,
            "bottom": null,
            "display": null,
            "flex": null,
            "flex_flow": null,
            "grid_area": null,
            "grid_auto_columns": null,
            "grid_auto_flow": null,
            "grid_auto_rows": null,
            "grid_column": null,
            "grid_gap": null,
            "grid_row": null,
            "grid_template_areas": null,
            "grid_template_columns": null,
            "grid_template_rows": null,
            "height": null,
            "justify_content": null,
            "justify_items": null,
            "left": null,
            "margin": null,
            "max_height": null,
            "max_width": null,
            "min_height": null,
            "min_width": null,
            "object_fit": null,
            "object_position": null,
            "order": null,
            "overflow": null,
            "overflow_x": null,
            "overflow_y": null,
            "padding": null,
            "right": null,
            "top": null,
            "visibility": null,
            "width": null
          }
        },
        "6798107e5a6141499804a879e9b297e1": {
          "model_module": "@jupyter-widgets/base",
          "model_name": "LayoutModel",
          "model_module_version": "1.2.0",
          "state": {
            "_model_module": "@jupyter-widgets/base",
            "_model_module_version": "1.2.0",
            "_model_name": "LayoutModel",
            "_view_count": null,
            "_view_module": "@jupyter-widgets/base",
            "_view_module_version": "1.2.0",
            "_view_name": "LayoutView",
            "align_content": null,
            "align_items": null,
            "align_self": null,
            "border": null,
            "bottom": null,
            "display": null,
            "flex": null,
            "flex_flow": null,
            "grid_area": null,
            "grid_auto_columns": null,
            "grid_auto_flow": null,
            "grid_auto_rows": null,
            "grid_column": null,
            "grid_gap": null,
            "grid_row": null,
            "grid_template_areas": null,
            "grid_template_columns": null,
            "grid_template_rows": null,
            "height": null,
            "justify_content": null,
            "justify_items": null,
            "left": null,
            "margin": null,
            "max_height": null,
            "max_width": null,
            "min_height": null,
            "min_width": null,
            "object_fit": null,
            "object_position": null,
            "order": null,
            "overflow": null,
            "overflow_x": null,
            "overflow_y": null,
            "padding": null,
            "right": null,
            "top": null,
            "visibility": null,
            "width": null
          }
        },
        "67078c671fbd4a37a0f2575b6519449f": {
          "model_module": "@jupyter-widgets/controls",
          "model_name": "DescriptionStyleModel",
          "model_module_version": "1.5.0",
          "state": {
            "_model_module": "@jupyter-widgets/controls",
            "_model_module_version": "1.5.0",
            "_model_name": "DescriptionStyleModel",
            "_view_count": null,
            "_view_module": "@jupyter-widgets/base",
            "_view_module_version": "1.2.0",
            "_view_name": "StyleView",
            "description_width": ""
          }
        },
        "6b6870c24c3f4bbc8418272eadcac432": {
          "model_module": "@jupyter-widgets/base",
          "model_name": "LayoutModel",
          "model_module_version": "1.2.0",
          "state": {
            "_model_module": "@jupyter-widgets/base",
            "_model_module_version": "1.2.0",
            "_model_name": "LayoutModel",
            "_view_count": null,
            "_view_module": "@jupyter-widgets/base",
            "_view_module_version": "1.2.0",
            "_view_name": "LayoutView",
            "align_content": null,
            "align_items": null,
            "align_self": null,
            "border": null,
            "bottom": null,
            "display": null,
            "flex": null,
            "flex_flow": null,
            "grid_area": null,
            "grid_auto_columns": null,
            "grid_auto_flow": null,
            "grid_auto_rows": null,
            "grid_column": null,
            "grid_gap": null,
            "grid_row": null,
            "grid_template_areas": null,
            "grid_template_columns": null,
            "grid_template_rows": null,
            "height": null,
            "justify_content": null,
            "justify_items": null,
            "left": null,
            "margin": null,
            "max_height": null,
            "max_width": null,
            "min_height": null,
            "min_width": null,
            "object_fit": null,
            "object_position": null,
            "order": null,
            "overflow": null,
            "overflow_x": null,
            "overflow_y": null,
            "padding": null,
            "right": null,
            "top": null,
            "visibility": null,
            "width": null
          }
        },
        "c556f8d1caa64b76962871e0018e8bb0": {
          "model_module": "@jupyter-widgets/controls",
          "model_name": "ProgressStyleModel",
          "model_module_version": "1.5.0",
          "state": {
            "_model_module": "@jupyter-widgets/controls",
            "_model_module_version": "1.5.0",
            "_model_name": "ProgressStyleModel",
            "_view_count": null,
            "_view_module": "@jupyter-widgets/base",
            "_view_module_version": "1.2.0",
            "_view_name": "StyleView",
            "bar_color": null,
            "description_width": ""
          }
        },
        "f929255b236045ba9e5ac99f4944c249": {
          "model_module": "@jupyter-widgets/base",
          "model_name": "LayoutModel",
          "model_module_version": "1.2.0",
          "state": {
            "_model_module": "@jupyter-widgets/base",
            "_model_module_version": "1.2.0",
            "_model_name": "LayoutModel",
            "_view_count": null,
            "_view_module": "@jupyter-widgets/base",
            "_view_module_version": "1.2.0",
            "_view_name": "LayoutView",
            "align_content": null,
            "align_items": null,
            "align_self": null,
            "border": null,
            "bottom": null,
            "display": null,
            "flex": null,
            "flex_flow": null,
            "grid_area": null,
            "grid_auto_columns": null,
            "grid_auto_flow": null,
            "grid_auto_rows": null,
            "grid_column": null,
            "grid_gap": null,
            "grid_row": null,
            "grid_template_areas": null,
            "grid_template_columns": null,
            "grid_template_rows": null,
            "height": null,
            "justify_content": null,
            "justify_items": null,
            "left": null,
            "margin": null,
            "max_height": null,
            "max_width": null,
            "min_height": null,
            "min_width": null,
            "object_fit": null,
            "object_position": null,
            "order": null,
            "overflow": null,
            "overflow_x": null,
            "overflow_y": null,
            "padding": null,
            "right": null,
            "top": null,
            "visibility": null,
            "width": null
          }
        },
        "db28c938497e46329281a70d09fe1f56": {
          "model_module": "@jupyter-widgets/controls",
          "model_name": "DescriptionStyleModel",
          "model_module_version": "1.5.0",
          "state": {
            "_model_module": "@jupyter-widgets/controls",
            "_model_module_version": "1.5.0",
            "_model_name": "DescriptionStyleModel",
            "_view_count": null,
            "_view_module": "@jupyter-widgets/base",
            "_view_module_version": "1.2.0",
            "_view_name": "StyleView",
            "description_width": ""
          }
        },
        "bcae2eac918842cbaa272a13184bcad7": {
          "model_module": "@jupyter-widgets/controls",
          "model_name": "HBoxModel",
          "model_module_version": "1.5.0",
          "state": {
            "_dom_classes": [],
            "_model_module": "@jupyter-widgets/controls",
            "_model_module_version": "1.5.0",
            "_model_name": "HBoxModel",
            "_view_count": null,
            "_view_module": "@jupyter-widgets/controls",
            "_view_module_version": "1.5.0",
            "_view_name": "HBoxView",
            "box_style": "",
            "children": [
              "IPY_MODEL_ac7fd508cc8e499d8ca89da9529f6b6d",
              "IPY_MODEL_d686a12d236944da9940ff7a31c7e149",
              "IPY_MODEL_fc6368dd21744adba6cdf45715eaebf3"
            ],
            "layout": "IPY_MODEL_654d3b57d3534708814bef0f8ced9669"
          }
        },
        "ac7fd508cc8e499d8ca89da9529f6b6d": {
          "model_module": "@jupyter-widgets/controls",
          "model_name": "HTMLModel",
          "model_module_version": "1.5.0",
          "state": {
            "_dom_classes": [],
            "_model_module": "@jupyter-widgets/controls",
            "_model_module_version": "1.5.0",
            "_model_name": "HTMLModel",
            "_view_count": null,
            "_view_module": "@jupyter-widgets/controls",
            "_view_module_version": "1.5.0",
            "_view_name": "HTMLView",
            "description": "",
            "description_tooltip": null,
            "layout": "IPY_MODEL_cefb6dc2f81b411686502a622fda84ee",
            "placeholder": "​",
            "style": "IPY_MODEL_f60aeea767874a6e94c04253b0fac2d5",
            "value": "Map: 100%"
          }
        },
        "d686a12d236944da9940ff7a31c7e149": {
          "model_module": "@jupyter-widgets/controls",
          "model_name": "FloatProgressModel",
          "model_module_version": "1.5.0",
          "state": {
            "_dom_classes": [],
            "_model_module": "@jupyter-widgets/controls",
            "_model_module_version": "1.5.0",
            "_model_name": "FloatProgressModel",
            "_view_count": null,
            "_view_module": "@jupyter-widgets/controls",
            "_view_module_version": "1.5.0",
            "_view_name": "ProgressView",
            "bar_style": "success",
            "description": "",
            "description_tooltip": null,
            "layout": "IPY_MODEL_024f298cd1ec4bed8858d02882bffeee",
            "max": 8465,
            "min": 0,
            "orientation": "horizontal",
            "style": "IPY_MODEL_18e2e794163c4c3ea5534f76192f6bfd",
            "value": 8465
          }
        },
        "fc6368dd21744adba6cdf45715eaebf3": {
          "model_module": "@jupyter-widgets/controls",
          "model_name": "HTMLModel",
          "model_module_version": "1.5.0",
          "state": {
            "_dom_classes": [],
            "_model_module": "@jupyter-widgets/controls",
            "_model_module_version": "1.5.0",
            "_model_name": "HTMLModel",
            "_view_count": null,
            "_view_module": "@jupyter-widgets/controls",
            "_view_module_version": "1.5.0",
            "_view_name": "HTMLView",
            "description": "",
            "description_tooltip": null,
            "layout": "IPY_MODEL_5864f8c892084c5e9798135f11c883ca",
            "placeholder": "​",
            "style": "IPY_MODEL_8e7cb715013343f2ac1eb601418e0107",
            "value": " 8465/8465 [00:01&lt;00:00, 5896.67 examples/s]"
          }
        },
        "654d3b57d3534708814bef0f8ced9669": {
          "model_module": "@jupyter-widgets/base",
          "model_name": "LayoutModel",
          "model_module_version": "1.2.0",
          "state": {
            "_model_module": "@jupyter-widgets/base",
            "_model_module_version": "1.2.0",
            "_model_name": "LayoutModel",
            "_view_count": null,
            "_view_module": "@jupyter-widgets/base",
            "_view_module_version": "1.2.0",
            "_view_name": "LayoutView",
            "align_content": null,
            "align_items": null,
            "align_self": null,
            "border": null,
            "bottom": null,
            "display": null,
            "flex": null,
            "flex_flow": null,
            "grid_area": null,
            "grid_auto_columns": null,
            "grid_auto_flow": null,
            "grid_auto_rows": null,
            "grid_column": null,
            "grid_gap": null,
            "grid_row": null,
            "grid_template_areas": null,
            "grid_template_columns": null,
            "grid_template_rows": null,
            "height": null,
            "justify_content": null,
            "justify_items": null,
            "left": null,
            "margin": null,
            "max_height": null,
            "max_width": null,
            "min_height": null,
            "min_width": null,
            "object_fit": null,
            "object_position": null,
            "order": null,
            "overflow": null,
            "overflow_x": null,
            "overflow_y": null,
            "padding": null,
            "right": null,
            "top": null,
            "visibility": null,
            "width": null
          }
        },
        "cefb6dc2f81b411686502a622fda84ee": {
          "model_module": "@jupyter-widgets/base",
          "model_name": "LayoutModel",
          "model_module_version": "1.2.0",
          "state": {
            "_model_module": "@jupyter-widgets/base",
            "_model_module_version": "1.2.0",
            "_model_name": "LayoutModel",
            "_view_count": null,
            "_view_module": "@jupyter-widgets/base",
            "_view_module_version": "1.2.0",
            "_view_name": "LayoutView",
            "align_content": null,
            "align_items": null,
            "align_self": null,
            "border": null,
            "bottom": null,
            "display": null,
            "flex": null,
            "flex_flow": null,
            "grid_area": null,
            "grid_auto_columns": null,
            "grid_auto_flow": null,
            "grid_auto_rows": null,
            "grid_column": null,
            "grid_gap": null,
            "grid_row": null,
            "grid_template_areas": null,
            "grid_template_columns": null,
            "grid_template_rows": null,
            "height": null,
            "justify_content": null,
            "justify_items": null,
            "left": null,
            "margin": null,
            "max_height": null,
            "max_width": null,
            "min_height": null,
            "min_width": null,
            "object_fit": null,
            "object_position": null,
            "order": null,
            "overflow": null,
            "overflow_x": null,
            "overflow_y": null,
            "padding": null,
            "right": null,
            "top": null,
            "visibility": null,
            "width": null
          }
        },
        "f60aeea767874a6e94c04253b0fac2d5": {
          "model_module": "@jupyter-widgets/controls",
          "model_name": "DescriptionStyleModel",
          "model_module_version": "1.5.0",
          "state": {
            "_model_module": "@jupyter-widgets/controls",
            "_model_module_version": "1.5.0",
            "_model_name": "DescriptionStyleModel",
            "_view_count": null,
            "_view_module": "@jupyter-widgets/base",
            "_view_module_version": "1.2.0",
            "_view_name": "StyleView",
            "description_width": ""
          }
        },
        "024f298cd1ec4bed8858d02882bffeee": {
          "model_module": "@jupyter-widgets/base",
          "model_name": "LayoutModel",
          "model_module_version": "1.2.0",
          "state": {
            "_model_module": "@jupyter-widgets/base",
            "_model_module_version": "1.2.0",
            "_model_name": "LayoutModel",
            "_view_count": null,
            "_view_module": "@jupyter-widgets/base",
            "_view_module_version": "1.2.0",
            "_view_name": "LayoutView",
            "align_content": null,
            "align_items": null,
            "align_self": null,
            "border": null,
            "bottom": null,
            "display": null,
            "flex": null,
            "flex_flow": null,
            "grid_area": null,
            "grid_auto_columns": null,
            "grid_auto_flow": null,
            "grid_auto_rows": null,
            "grid_column": null,
            "grid_gap": null,
            "grid_row": null,
            "grid_template_areas": null,
            "grid_template_columns": null,
            "grid_template_rows": null,
            "height": null,
            "justify_content": null,
            "justify_items": null,
            "left": null,
            "margin": null,
            "max_height": null,
            "max_width": null,
            "min_height": null,
            "min_width": null,
            "object_fit": null,
            "object_position": null,
            "order": null,
            "overflow": null,
            "overflow_x": null,
            "overflow_y": null,
            "padding": null,
            "right": null,
            "top": null,
            "visibility": null,
            "width": null
          }
        },
        "18e2e794163c4c3ea5534f76192f6bfd": {
          "model_module": "@jupyter-widgets/controls",
          "model_name": "ProgressStyleModel",
          "model_module_version": "1.5.0",
          "state": {
            "_model_module": "@jupyter-widgets/controls",
            "_model_module_version": "1.5.0",
            "_model_name": "ProgressStyleModel",
            "_view_count": null,
            "_view_module": "@jupyter-widgets/base",
            "_view_module_version": "1.2.0",
            "_view_name": "StyleView",
            "bar_color": null,
            "description_width": ""
          }
        },
        "5864f8c892084c5e9798135f11c883ca": {
          "model_module": "@jupyter-widgets/base",
          "model_name": "LayoutModel",
          "model_module_version": "1.2.0",
          "state": {
            "_model_module": "@jupyter-widgets/base",
            "_model_module_version": "1.2.0",
            "_model_name": "LayoutModel",
            "_view_count": null,
            "_view_module": "@jupyter-widgets/base",
            "_view_module_version": "1.2.0",
            "_view_name": "LayoutView",
            "align_content": null,
            "align_items": null,
            "align_self": null,
            "border": null,
            "bottom": null,
            "display": null,
            "flex": null,
            "flex_flow": null,
            "grid_area": null,
            "grid_auto_columns": null,
            "grid_auto_flow": null,
            "grid_auto_rows": null,
            "grid_column": null,
            "grid_gap": null,
            "grid_row": null,
            "grid_template_areas": null,
            "grid_template_columns": null,
            "grid_template_rows": null,
            "height": null,
            "justify_content": null,
            "justify_items": null,
            "left": null,
            "margin": null,
            "max_height": null,
            "max_width": null,
            "min_height": null,
            "min_width": null,
            "object_fit": null,
            "object_position": null,
            "order": null,
            "overflow": null,
            "overflow_x": null,
            "overflow_y": null,
            "padding": null,
            "right": null,
            "top": null,
            "visibility": null,
            "width": null
          }
        },
        "8e7cb715013343f2ac1eb601418e0107": {
          "model_module": "@jupyter-widgets/controls",
          "model_name": "DescriptionStyleModel",
          "model_module_version": "1.5.0",
          "state": {
            "_model_module": "@jupyter-widgets/controls",
            "_model_module_version": "1.5.0",
            "_model_name": "DescriptionStyleModel",
            "_view_count": null,
            "_view_module": "@jupyter-widgets/base",
            "_view_module_version": "1.2.0",
            "_view_name": "StyleView",
            "description_width": ""
          }
        }
      }
    }
  },
  "nbformat": 4,
  "nbformat_minor": 0
}